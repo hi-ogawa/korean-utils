{
 "cells": [
  {
   "cell_type": "code",
   "execution_count": null,
   "metadata": {},
   "outputs": [
    {
     "ename": "",
     "evalue": "",
     "output_type": "error",
     "traceback": [
      "\u001b[1;31mRunning cells with 'Python 3.8.2 64-bit ('3.8.2')' requires ipykernel package.\n",
      "\u001b[1;31mRun the following command to install 'ipykernel' into the Python environment. \n",
      "\u001b[1;31mCommand: '/home/hiroshi/.pyenv/versions/3.8.2/bin/python -m pip install ipykernel -U --force-reinstall'"
     ]
    }
   ],
   "source": [
    "import spacy\n",
    "\n",
    "MODEL_NAME = \"ko_core_news_lg\"\n",
    "\n",
    "nlp = spacy.load(MODEL_NAME)"
   ]
  },
  {
   "cell_type": "code",
   "execution_count": 3,
   "metadata": {},
   "outputs": [
    {
     "name": "stdout",
     "output_type": "stream",
     "text": [
      "나는 학생이다\n"
     ]
    }
   ],
   "source": [
    "# https://en.wikipedia.org/wiki/Korean_postpositions\n",
    "doc = nlp(\"나는 학생이다\")\n",
    "print(doc)"
   ]
  },
  {
   "cell_type": "code",
   "execution_count": 8,
   "metadata": {},
   "outputs": [
    {
     "data": {
      "text/plain": [
       "[('나는', '나+는', 'PRON', 'npp+jxt'), ('학생이다', '학생+이+다', 'VERB', 'ncn+jp+ef')]"
      ]
     },
     "execution_count": 8,
     "metadata": {},
     "output_type": "execute_result"
    }
   ],
   "source": [
    "# TODO: what does `tag` mean?\n",
    "[(t.text, t.lemma_, t.pos_, t.tag_) for t in doc]"
   ]
  }
 ],
 "metadata": {
  "kernelspec": {
   "display_name": "Python 3.10.9 ('.venv': poetry)",
   "language": "python",
   "name": "python3"
  },
  "language_info": {
   "codemirror_mode": {
    "name": "ipython",
    "version": 3
   },
   "file_extension": ".py",
   "mimetype": "text/x-python",
   "name": "python",
   "nbconvert_exporter": "python",
   "pygments_lexer": "ipython3",
   "version": "3.10.9"
  },
  "orig_nbformat": 4,
  "vscode": {
   "interpreter": {
    "hash": "fa6692cac9b29cee93c152fee23174d8ab499b7e5bd1607925371df106826ac7"
   }
  }
 },
 "nbformat": 4,
 "nbformat_minor": 2
}
