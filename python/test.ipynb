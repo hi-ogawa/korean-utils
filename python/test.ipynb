{
 "cells": [
  {
   "cell_type": "code",
   "execution_count": 1,
   "metadata": {},
   "outputs": [],
   "source": [
    "import spacy\n",
    "\n",
    "MODEL_NAME = \"ko_core_news_lg\"\n",
    "\n",
    "nlp = spacy.load(MODEL_NAME)"
   ]
  },
  {
   "cell_type": "code",
   "execution_count": 2,
   "metadata": {},
   "outputs": [],
   "source": [
    "def analyze(text: str):\n",
    "    doc = nlp(text)\n",
    "    result = [(t.text, t.lemma_, t.pos_, t.tag_) for t in doc]\n",
    "    return result"
   ]
  },
  {
   "cell_type": "code",
   "execution_count": 6,
   "metadata": {},
   "outputs": [
    {
     "name": "stdout",
     "output_type": "stream",
     "text": [
      "[('나는', '나+는', 'PRON', 'npp+jxt'), ('학생이다', '학생+이+다', 'VERB', 'ncn+jp+ef')]\n"
     ]
    }
   ],
   "source": [
    "print(analyze(\"나는 학생이다\"))"
   ]
  },
  {
   "cell_type": "code",
   "execution_count": 7,
   "metadata": {},
   "outputs": [
    {
     "name": "stdout",
     "output_type": "stream",
     "text": [
      "[('새로고침', '새로+고침', 'NOUN', 'ncn+ncn')]\n"
     ]
    }
   ],
   "source": [
    "print(analyze(\"새로고침\"))"
   ]
  },
  {
   "cell_type": "code",
   "execution_count": 3,
   "metadata": {},
   "outputs": [
    {
     "data": {
      "text/plain": [
       "[('오랜만이야', '오랜만이야', 'ADV', 'mag')]"
      ]
     },
     "execution_count": 3,
     "metadata": {},
     "output_type": "execute_result"
    }
   ],
   "source": [
    "analyze(\"오랜만이야\")"
   ]
  },
  {
   "cell_type": "code",
   "execution_count": 4,
   "metadata": {},
   "outputs": [
    {
     "data": {
      "text/plain": [
       "[('저희', '저희', 'PRON', 'npp'), ('인사드리겠습니다', '인사+드+리겠습니다', 'SCONJ', 'ncpa+ncps')]"
      ]
     },
     "execution_count": 4,
     "metadata": {},
     "output_type": "execute_result"
    }
   ],
   "source": [
    "analyze(\"저희 인사드리겠습니다\")"
   ]
  },
  {
   "cell_type": "code",
   "execution_count": 5,
   "metadata": {},
   "outputs": [
    {
     "data": {
      "text/plain": [
       "[('눈을', '눈+을', 'NOUN', 'ncn+jco'),\n",
       " ('사로잡고', '사로잡+고', 'CCONJ', 'pvg+ecc'),\n",
       " ('마음을', '마음+을', 'NOUN', 'ncn+jco'),\n",
       " ('사로잡겠다', '사로잡겠다', 'VERB', 'pvg+ef')]"
      ]
     },
     "execution_count": 5,
     "metadata": {},
     "output_type": "execute_result"
    }
   ],
   "source": [
    "analyze(\"눈을 사로잡고 마음을 사로잡겠다\")"
   ]
  },
  {
   "cell_type": "code",
   "execution_count": 6,
   "metadata": {},
   "outputs": [
    {
     "data": {
      "text/plain": [
       "[('우리', '우리', 'PRON', 'npp'),\n",
       " ('학교에', '학교+에', 'ADV', 'ncn+jca'),\n",
       " ('온', '오+ㄴ', 'VERB', 'pvg+etm'),\n",
       " ('걸', '것+을', 'NOUN', 'nbn+jco'),\n",
       " ('환영해', '환영+하+어', 'VERB', 'ncpa+xsv+ecx')]"
      ]
     },
     "execution_count": 6,
     "metadata": {},
     "output_type": "execute_result"
    }
   ],
   "source": [
    "analyze(\"우리 학교에 온 걸 환영해\")"
   ]
  }
 ],
 "metadata": {
  "kernelspec": {
   "display_name": "Python 3.10.9 ('.venv': poetry)",
   "language": "python",
   "name": "python3"
  },
  "language_info": {
   "codemirror_mode": {
    "name": "ipython",
    "version": 3
   },
   "file_extension": ".py",
   "mimetype": "text/x-python",
   "name": "python",
   "nbconvert_exporter": "python",
   "pygments_lexer": "ipython3",
   "version": "3.10.9"
  },
  "orig_nbformat": 4,
  "vscode": {
   "interpreter": {
    "hash": "fa6692cac9b29cee93c152fee23174d8ab499b7e5bd1607925371df106826ac7"
   }
  }
 },
 "nbformat": 4,
 "nbformat_minor": 2
}
